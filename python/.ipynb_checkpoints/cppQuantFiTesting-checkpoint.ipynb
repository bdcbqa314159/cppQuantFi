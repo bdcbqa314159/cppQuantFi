{
 "cells": [
  {
   "cell_type": "markdown",
   "id": "104466cd",
   "metadata": {},
   "source": [
    "# Title:"
   ]
  },
  {
   "cell_type": "markdown",
   "id": "34dc1416",
   "metadata": {},
   "source": [
    "### Wassup:\n",
    "We take the book, we code it on c++ and we interface with python and excel :)"
   ]
  },
  {
   "cell_type": "code",
   "execution_count": 1,
   "id": "ecf75e03",
   "metadata": {},
   "outputs": [],
   "source": [
    "import numpy as np\n",
    "import cppQuantFi"
   ]
  },
  {
   "cell_type": "code",
   "execution_count": 2,
   "id": "c433c757",
   "metadata": {},
   "outputs": [
    {
     "data": {
      "text/plain": [
       "'hello'"
      ]
     },
     "execution_count": 2,
     "metadata": {},
     "output_type": "execute_result"
    }
   ],
   "source": [
    "cppQuantFi.say(\"hello\")"
   ]
  },
  {
   "cell_type": "code",
   "execution_count": 3,
   "id": "6baf49be",
   "metadata": {},
   "outputs": [
    {
     "data": {
      "text/plain": [
       "['Matrix',\n",
       " 'VanillaOption',\n",
       " '__doc__',\n",
       " '__file__',\n",
       " '__loader__',\n",
       " '__name__',\n",
       " '__package__',\n",
       " '__spec__',\n",
       " 'say']"
      ]
     },
     "execution_count": 3,
     "metadata": {},
     "output_type": "execute_result"
    }
   ],
   "source": [
    "dir(cppQuantFi)"
   ]
  },
  {
   "cell_type": "markdown",
   "id": "967811f4",
   "metadata": {},
   "source": [
    "# Vanilla Option"
   ]
  },
  {
   "cell_type": "code",
   "execution_count": 4,
   "id": "3e36b95d",
   "metadata": {},
   "outputs": [],
   "source": [
    "test = cppQuantFi.VanillaOption()"
   ]
  },
  {
   "cell_type": "code",
   "execution_count": 5,
   "id": "e5e3397a",
   "metadata": {},
   "outputs": [
    {
     "data": {
      "text/plain": [
       "10.450577973198428"
      ]
     },
     "execution_count": 5,
     "metadata": {},
     "output_type": "execute_result"
    }
   ],
   "source": [
    "test.calc_call_price()"
   ]
  },
  {
   "cell_type": "code",
   "execution_count": 6,
   "id": "d525c287",
   "metadata": {},
   "outputs": [
    {
     "data": {
      "text/plain": [
       "5.573520423269834"
      ]
     },
     "execution_count": 6,
     "metadata": {},
     "output_type": "execute_result"
    }
   ],
   "source": [
    "test.calc_put_price()"
   ]
  },
  {
   "cell_type": "code",
   "execution_count": 7,
   "id": "502842d5",
   "metadata": {},
   "outputs": [
    {
     "data": {
      "text/plain": [
       "100.0"
      ]
     },
     "execution_count": 7,
     "metadata": {},
     "output_type": "execute_result"
    }
   ],
   "source": [
    "test.getK()"
   ]
  },
  {
   "cell_type": "markdown",
   "id": "567f1f1e",
   "metadata": {},
   "source": [
    "# Matrix class (I don't like this class in this book)"
   ]
  },
  {
   "cell_type": "code",
   "execution_count": 8,
   "id": "864dd05f",
   "metadata": {},
   "outputs": [],
   "source": [
    "a = cppQuantFi.Matrix()\n",
    "b = cppQuantFi.Matrix(1,4,1)"
   ]
  },
  {
   "cell_type": "code",
   "execution_count": 9,
   "id": "0a0360ea",
   "metadata": {},
   "outputs": [
    {
     "data": {
      "text/plain": [
       "[[1.0, 1.0, 1.0, 1.0]]"
      ]
     },
     "execution_count": 9,
     "metadata": {},
     "output_type": "execute_result"
    }
   ],
   "source": [
    "b.get_mat()"
   ]
  },
  {
   "cell_type": "code",
   "execution_count": null,
   "id": "f9fb3ce9",
   "metadata": {},
   "outputs": [],
   "source": []
  }
 ],
 "metadata": {
  "kernelspec": {
   "display_name": "Python 3",
   "language": "python",
   "name": "python3"
  },
  "language_info": {
   "codemirror_mode": {
    "name": "ipython",
    "version": 3
   },
   "file_extension": ".py",
   "mimetype": "text/x-python",
   "name": "python",
   "nbconvert_exporter": "python",
   "pygments_lexer": "ipython3",
   "version": "3.8.8"
  }
 },
 "nbformat": 4,
 "nbformat_minor": 5
}
