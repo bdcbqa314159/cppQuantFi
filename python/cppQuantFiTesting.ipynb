{
 "cells": [
  {
   "cell_type": "markdown",
   "id": "950208ed",
   "metadata": {},
   "source": [
    "# Title:"
   ]
  },
  {
   "cell_type": "markdown",
   "id": "0b49f493",
   "metadata": {},
   "source": [
    "### Wassup:\n",
    "We take the book, we code it on c++ and we interface with python and excel :)"
   ]
  },
  {
   "cell_type": "code",
   "execution_count": 1,
   "id": "ecf75e03",
   "metadata": {},
   "outputs": [],
   "source": [
    "import numpy as np\n",
    "import cppQuantFi"
   ]
  },
  {
   "cell_type": "code",
   "execution_count": 2,
   "id": "c433c757",
   "metadata": {},
   "outputs": [
    {
     "data": {
      "text/plain": [
       "'hello'"
      ]
     },
     "execution_count": 2,
     "metadata": {},
     "output_type": "execute_result"
    }
   ],
   "source": [
    "cppQuantFi.say(\"hello\")"
   ]
  },
  {
   "cell_type": "code",
   "execution_count": 3,
   "id": "6baf49be",
   "metadata": {},
   "outputs": [
    {
     "data": {
      "text/plain": [
       "['Matrix',\n",
       " 'VanillaOption',\n",
       " '__doc__',\n",
       " '__file__',\n",
       " '__loader__',\n",
       " '__name__',\n",
       " '__package__',\n",
       " '__spec__',\n",
       " 'call_price',\n",
       " 'monte_carlo_call_price',\n",
       " 'monte_carlo_put_price',\n",
       " 'put_price',\n",
       " 'say']"
      ]
     },
     "execution_count": 3,
     "metadata": {},
     "output_type": "execute_result"
    }
   ],
   "source": [
    "dir(cppQuantFi)"
   ]
  },
  {
   "cell_type": "markdown",
   "id": "69a30350",
   "metadata": {},
   "source": [
    "# Vanilla Option"
   ]
  },
  {
   "cell_type": "code",
   "execution_count": 4,
   "id": "3e36b95d",
   "metadata": {},
   "outputs": [],
   "source": [
    "test = cppQuantFi.VanillaOption()"
   ]
  },
  {
   "cell_type": "code",
   "execution_count": 5,
   "id": "cee0d0ee",
   "metadata": {},
   "outputs": [
    {
     "data": {
      "text/plain": [
       "10.450577973198428"
      ]
     },
     "execution_count": 5,
     "metadata": {},
     "output_type": "execute_result"
    }
   ],
   "source": [
    "test.calc_call_price()"
   ]
  },
  {
   "cell_type": "code",
   "execution_count": 6,
   "id": "46d67a9b",
   "metadata": {},
   "outputs": [
    {
     "data": {
      "text/plain": [
       "5.573520423269834"
      ]
     },
     "execution_count": 6,
     "metadata": {},
     "output_type": "execute_result"
    }
   ],
   "source": [
    "test.calc_put_price()"
   ]
  },
  {
   "cell_type": "code",
   "execution_count": 7,
   "id": "a455d38f",
   "metadata": {},
   "outputs": [
    {
     "data": {
      "text/plain": [
       "100.0"
      ]
     },
     "execution_count": 7,
     "metadata": {},
     "output_type": "execute_result"
    }
   ],
   "source": [
    "test.getK()"
   ]
  },
  {
   "cell_type": "markdown",
   "id": "40a94727",
   "metadata": {},
   "source": [
    "# Matrix class (I don't like this class in this book)"
   ]
  },
  {
   "cell_type": "code",
   "execution_count": 8,
   "id": "c925ba5f",
   "metadata": {},
   "outputs": [],
   "source": [
    "a = cppQuantFi.Matrix()\n",
    "b = cppQuantFi.Matrix(1,4,1)"
   ]
  },
  {
   "cell_type": "code",
   "execution_count": 9,
   "id": "778c5991",
   "metadata": {},
   "outputs": [
    {
     "data": {
      "text/plain": [
       "[[1.0, 1.0, 1.0, 1.0]]"
      ]
     },
     "execution_count": 9,
     "metadata": {},
     "output_type": "execute_result"
    }
   ],
   "source": [
    "b.get_mat()"
   ]
  },
  {
   "cell_type": "code",
   "execution_count": 10,
   "id": "eb5dcfbb",
   "metadata": {},
   "outputs": [
    {
     "data": {
      "text/plain": [
       "[]"
      ]
     },
     "execution_count": 10,
     "metadata": {},
     "output_type": "execute_result"
    }
   ],
   "source": [
    "a.get_mat()"
   ]
  },
  {
   "cell_type": "markdown",
   "id": "404fb946",
   "metadata": {},
   "source": [
    "# Euro Option with BS & MC"
   ]
  },
  {
   "cell_type": "code",
   "execution_count": 11,
   "id": "7e7deab4",
   "metadata": {},
   "outputs": [],
   "source": [
    "num_sims = 10000000;\n",
    "S = 100.;\n",
    "K = 100.;\n",
    "r = 0.05;\n",
    "v = 0.2;\n",
    "T = 1.0;"
   ]
  },
  {
   "cell_type": "code",
   "execution_count": 13,
   "id": "52ff5d48",
   "metadata": {},
   "outputs": [
    {
     "data": {
      "text/plain": [
       "10.450577973198428"
      ]
     },
     "execution_count": 13,
     "metadata": {},
     "output_type": "execute_result"
    }
   ],
   "source": [
    "cppQuantFi.call_price(S,K,r,v,T)"
   ]
  },
  {
   "cell_type": "code",
   "execution_count": 14,
   "id": "e23c8873",
   "metadata": {},
   "outputs": [
    {
     "data": {
      "text/plain": [
       "5.573520423269834"
      ]
     },
     "execution_count": 14,
     "metadata": {},
     "output_type": "execute_result"
    }
   ],
   "source": [
    "cppQuantFi.put_price(S,K,r,v,T)"
   ]
  },
  {
   "cell_type": "code",
   "execution_count": 15,
   "id": "59fce47a",
   "metadata": {},
   "outputs": [
    {
     "data": {
      "text/plain": [
       "10.455283600877703"
      ]
     },
     "execution_count": 15,
     "metadata": {},
     "output_type": "execute_result"
    }
   ],
   "source": [
    "cppQuantFi.monte_carlo_call_price(num_sims,S,K,r,v,T)"
   ]
  },
  {
   "cell_type": "code",
   "execution_count": 16,
   "id": "7f001fde",
   "metadata": {},
   "outputs": [
    {
     "data": {
      "text/plain": [
       "5.57388213819991"
      ]
     },
     "execution_count": 16,
     "metadata": {},
     "output_type": "execute_result"
    }
   ],
   "source": [
    "cppQuantFi.monte_carlo_put_price(num_sims,S,K,r,v,T)"
   ]
  },
  {
   "cell_type": "code",
   "execution_count": null,
   "id": "0649b7b1",
   "metadata": {},
   "outputs": [],
   "source": []
  }
 ],
 "metadata": {
  "kernelspec": {
   "display_name": "Python 3",
   "language": "python",
   "name": "python3"
  },
  "language_info": {
   "codemirror_mode": {
    "name": "ipython",
    "version": 3
   },
   "file_extension": ".py",
   "mimetype": "text/x-python",
   "name": "python",
   "nbconvert_exporter": "python",
   "pygments_lexer": "ipython3",
   "version": "3.8.8"
  }
 },
 "nbformat": 4,
 "nbformat_minor": 5
}
