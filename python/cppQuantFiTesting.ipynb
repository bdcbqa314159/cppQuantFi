{
 "cells": [
  {
   "cell_type": "markdown",
   "id": "d352feb3",
   "metadata": {},
   "source": [
    "# Title:"
   ]
  },
  {
   "cell_type": "markdown",
   "id": "956bb41d",
   "metadata": {},
   "source": [
    "### Wassup:\n",
    "We take the book, we code it on c++ and we interface with python and excel :)"
   ]
  },
  {
   "cell_type": "code",
   "execution_count": 1,
   "id": "ecf75e03",
   "metadata": {},
   "outputs": [],
   "source": [
    "import numpy as np\n",
    "import cppQuantFi"
   ]
  },
  {
   "cell_type": "code",
   "execution_count": 2,
   "id": "c433c757",
   "metadata": {},
   "outputs": [
    {
     "data": {
      "text/plain": [
       "'hello'"
      ]
     },
     "execution_count": 2,
     "metadata": {},
     "output_type": "execute_result"
    }
   ],
   "source": [
    "cppQuantFi.say(\"hello\")"
   ]
  },
  {
   "cell_type": "code",
   "execution_count": 3,
   "id": "6baf49be",
   "metadata": {},
   "outputs": [
    {
     "data": {
      "text/plain": [
       "['VanillaOption',\n",
       " '__doc__',\n",
       " '__file__',\n",
       " '__loader__',\n",
       " '__name__',\n",
       " '__package__',\n",
       " '__spec__',\n",
       " 'say']"
      ]
     },
     "execution_count": 3,
     "metadata": {},
     "output_type": "execute_result"
    }
   ],
   "source": [
    "dir(cppQuantFi)"
   ]
  },
  {
   "cell_type": "markdown",
   "id": "9b5d11dd",
   "metadata": {},
   "source": [
    "# Vanilla Option"
   ]
  },
  {
   "cell_type": "code",
   "execution_count": 4,
   "id": "3e36b95d",
   "metadata": {},
   "outputs": [],
   "source": [
    "test = cppQuantFi.VanillaOption()"
   ]
  },
  {
   "cell_type": "code",
   "execution_count": 5,
   "id": "4742590e",
   "metadata": {},
   "outputs": [
    {
     "data": {
      "text/plain": [
       "10.450577973198428"
      ]
     },
     "execution_count": 5,
     "metadata": {},
     "output_type": "execute_result"
    }
   ],
   "source": [
    "test.calc_call_price()"
   ]
  },
  {
   "cell_type": "code",
   "execution_count": 6,
   "id": "1200f7f6",
   "metadata": {},
   "outputs": [
    {
     "data": {
      "text/plain": [
       "5.573520423269834"
      ]
     },
     "execution_count": 6,
     "metadata": {},
     "output_type": "execute_result"
    }
   ],
   "source": [
    "test.calc_put_price()"
   ]
  },
  {
   "cell_type": "code",
   "execution_count": 7,
   "id": "bae067d9",
   "metadata": {},
   "outputs": [
    {
     "data": {
      "text/plain": [
       "100.0"
      ]
     },
     "execution_count": 7,
     "metadata": {},
     "output_type": "execute_result"
    }
   ],
   "source": [
    "test.getK()"
   ]
  },
  {
   "cell_type": "code",
   "execution_count": null,
   "id": "e863924d",
   "metadata": {},
   "outputs": [],
   "source": []
  }
 ],
 "metadata": {
  "kernelspec": {
   "display_name": "Python 3",
   "language": "python",
   "name": "python3"
  },
  "language_info": {
   "codemirror_mode": {
    "name": "ipython",
    "version": 3
   },
   "file_extension": ".py",
   "mimetype": "text/x-python",
   "name": "python",
   "nbconvert_exporter": "python",
   "pygments_lexer": "ipython3",
   "version": "3.8.8"
  }
 },
 "nbformat": 4,
 "nbformat_minor": 5
}
