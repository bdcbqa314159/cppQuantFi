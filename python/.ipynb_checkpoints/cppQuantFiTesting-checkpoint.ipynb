{
 "cells": [
  {
   "cell_type": "markdown",
   "id": "950208ed",
   "metadata": {},
   "source": [
    "# Title:"
   ]
  },
  {
   "cell_type": "markdown",
   "id": "0b49f493",
   "metadata": {},
   "source": [
    "### Wassup:\n",
    "We take the book, we code it on c++ and we interface with python and excel :)"
   ]
  },
  {
   "cell_type": "code",
   "execution_count": 1,
   "id": "ecf75e03",
   "metadata": {},
   "outputs": [],
   "source": [
    "import numpy as np\n",
    "import cppQuantFi"
   ]
  },
  {
   "cell_type": "code",
   "execution_count": 2,
   "id": "c433c757",
   "metadata": {},
   "outputs": [
    {
     "data": {
      "text/plain": [
       "'hello'"
      ]
     },
     "execution_count": 2,
     "metadata": {},
     "output_type": "execute_result"
    }
   ],
   "source": [
    "cppQuantFi.say(\"hello\")"
   ]
  },
  {
   "cell_type": "code",
   "execution_count": 3,
   "id": "6baf49be",
   "metadata": {},
   "outputs": [
    {
     "data": {
      "text/plain": [
       "['Matrix',\n",
       " 'VanillaOption',\n",
       " '__doc__',\n",
       " '__file__',\n",
       " '__loader__',\n",
       " '__name__',\n",
       " '__package__',\n",
       " '__spec__',\n",
       " 'call_delta',\n",
       " 'call_delta_fdm',\n",
       " 'call_gamma',\n",
       " 'call_gamma_fdm',\n",
       " 'call_price',\n",
       " 'call_rho',\n",
       " 'call_rho_fdm',\n",
       " 'call_theta',\n",
       " 'call_theta_fdm',\n",
       " 'call_vega',\n",
       " 'call_vega_fdm',\n",
       " 'monte_carlo_call_greeks',\n",
       " 'monte_carlo_call_price',\n",
       " 'monte_carlo_put_price',\n",
       " 'put_delta',\n",
       " 'put_delta_fdm',\n",
       " 'put_gamma',\n",
       " 'put_gamma_fdm',\n",
       " 'put_price',\n",
       " 'put_rho',\n",
       " 'put_rho_fdm',\n",
       " 'put_theta',\n",
       " 'put_theta_fdm',\n",
       " 'put_vega',\n",
       " 'put_vega_fdm',\n",
       " 'say']"
      ]
     },
     "execution_count": 3,
     "metadata": {},
     "output_type": "execute_result"
    }
   ],
   "source": [
    "dir(cppQuantFi)"
   ]
  },
  {
   "cell_type": "markdown",
   "id": "69a30350",
   "metadata": {},
   "source": [
    "# Vanilla Option"
   ]
  },
  {
   "cell_type": "code",
   "execution_count": 4,
   "id": "3e36b95d",
   "metadata": {},
   "outputs": [],
   "source": [
    "test = cppQuantFi.VanillaOption()"
   ]
  },
  {
   "cell_type": "code",
   "execution_count": 5,
   "id": "cee0d0ee",
   "metadata": {},
   "outputs": [
    {
     "data": {
      "text/plain": [
       "10.450577973198428"
      ]
     },
     "execution_count": 5,
     "metadata": {},
     "output_type": "execute_result"
    }
   ],
   "source": [
    "test.calc_call_price()"
   ]
  },
  {
   "cell_type": "code",
   "execution_count": 6,
   "id": "46d67a9b",
   "metadata": {},
   "outputs": [
    {
     "data": {
      "text/plain": [
       "5.573520423269834"
      ]
     },
     "execution_count": 6,
     "metadata": {},
     "output_type": "execute_result"
    }
   ],
   "source": [
    "test.calc_put_price()"
   ]
  },
  {
   "cell_type": "code",
   "execution_count": 7,
   "id": "a455d38f",
   "metadata": {},
   "outputs": [
    {
     "data": {
      "text/plain": [
       "100.0"
      ]
     },
     "execution_count": 7,
     "metadata": {},
     "output_type": "execute_result"
    }
   ],
   "source": [
    "test.getK()"
   ]
  },
  {
   "cell_type": "markdown",
   "id": "40a94727",
   "metadata": {},
   "source": [
    "# Matrix class (I don't like this class in this book)"
   ]
  },
  {
   "cell_type": "code",
   "execution_count": 8,
   "id": "c925ba5f",
   "metadata": {},
   "outputs": [],
   "source": [
    "a = cppQuantFi.Matrix()\n",
    "b = cppQuantFi.Matrix(1,4,1)"
   ]
  },
  {
   "cell_type": "code",
   "execution_count": 9,
   "id": "778c5991",
   "metadata": {},
   "outputs": [
    {
     "data": {
      "text/plain": [
       "[[1.0, 1.0, 1.0, 1.0]]"
      ]
     },
     "execution_count": 9,
     "metadata": {},
     "output_type": "execute_result"
    }
   ],
   "source": [
    "b.get_mat()"
   ]
  },
  {
   "cell_type": "code",
   "execution_count": 10,
   "id": "eb5dcfbb",
   "metadata": {},
   "outputs": [
    {
     "data": {
      "text/plain": [
       "[]"
      ]
     },
     "execution_count": 10,
     "metadata": {},
     "output_type": "execute_result"
    }
   ],
   "source": [
    "a.get_mat()"
   ]
  },
  {
   "cell_type": "markdown",
   "id": "404fb946",
   "metadata": {},
   "source": [
    "# Euro Option with BS & MC"
   ]
  },
  {
   "cell_type": "code",
   "execution_count": 11,
   "id": "7e7deab4",
   "metadata": {},
   "outputs": [],
   "source": [
    "num_sims = 10000000;\n",
    "S = 100.;\n",
    "K = 100.;\n",
    "r = 0.05;\n",
    "v = 0.2;\n",
    "T = 1.0;"
   ]
  },
  {
   "cell_type": "code",
   "execution_count": 12,
   "id": "52ff5d48",
   "metadata": {},
   "outputs": [
    {
     "data": {
      "text/plain": [
       "10.450577973198428"
      ]
     },
     "execution_count": 12,
     "metadata": {},
     "output_type": "execute_result"
    }
   ],
   "source": [
    "cppQuantFi.call_price(S,K,r,v,T)"
   ]
  },
  {
   "cell_type": "code",
   "execution_count": 13,
   "id": "e23c8873",
   "metadata": {},
   "outputs": [
    {
     "data": {
      "text/plain": [
       "5.573520423269834"
      ]
     },
     "execution_count": 13,
     "metadata": {},
     "output_type": "execute_result"
    }
   ],
   "source": [
    "cppQuantFi.put_price(S,K,r,v,T)"
   ]
  },
  {
   "cell_type": "code",
   "execution_count": 14,
   "id": "59fce47a",
   "metadata": {},
   "outputs": [
    {
     "data": {
      "text/plain": [
       "10.455283600877703"
      ]
     },
     "execution_count": 14,
     "metadata": {},
     "output_type": "execute_result"
    }
   ],
   "source": [
    "cppQuantFi.monte_carlo_call_price(num_sims,S,K,r,v,T)"
   ]
  },
  {
   "cell_type": "code",
   "execution_count": 15,
   "id": "7f001fde",
   "metadata": {},
   "outputs": [
    {
     "data": {
      "text/plain": [
       "5.57388213819991"
      ]
     },
     "execution_count": 15,
     "metadata": {},
     "output_type": "execute_result"
    }
   ],
   "source": [
    "cppQuantFi.monte_carlo_put_price(num_sims,S,K,r,v,T)"
   ]
  },
  {
   "cell_type": "markdown",
   "id": "9f414ddc",
   "metadata": {},
   "source": [
    "# Greeks"
   ]
  },
  {
   "cell_type": "code",
   "execution_count": 16,
   "id": "d0afc644",
   "metadata": {},
   "outputs": [],
   "source": [
    "call_delta = cppQuantFi.call_delta(S,K,r,v,T)\n",
    "call_gamma = cppQuantFi.call_gamma(S,K,r,v,T)\n",
    "call_vega = cppQuantFi.call_vega(S,K,r,v,T)\n",
    "call_theta = cppQuantFi.call_theta(S,K,r,v,T)\n",
    "call_rho = cppQuantFi.call_rho(S,K,r,v,T)\n"
   ]
  },
  {
   "cell_type": "code",
   "execution_count": 17,
   "id": "6b99b957",
   "metadata": {},
   "outputs": [
    {
     "data": {
      "text/plain": [
       "(0.6368304370770013,\n",
       " 0.018762025269650963,\n",
       " 37.524050539301925,\n",
       " -6.414028340655278,\n",
       " 53.2324657345017)"
      ]
     },
     "execution_count": 17,
     "metadata": {},
     "output_type": "execute_result"
    }
   ],
   "source": [
    "call_delta, call_gamma, call_vega, call_theta, call_rho"
   ]
  },
  {
   "cell_type": "code",
   "execution_count": 18,
   "id": "92cb28d4",
   "metadata": {},
   "outputs": [],
   "source": [
    "put_delta = cppQuantFi.put_delta(S,K,r,v,T)\n",
    "put_gamma = cppQuantFi.put_gamma(S,K,r,v,T)\n",
    "put_vega = cppQuantFi.put_vega(S,K,r,v,T)\n",
    "put_theta = cppQuantFi.put_theta(S,K,r,v,T)\n",
    "put_rho = cppQuantFi.put_rho(S,K,r,v,T)"
   ]
  },
  {
   "cell_type": "code",
   "execution_count": 19,
   "id": "b1745026",
   "metadata": {},
   "outputs": [
    {
     "data": {
      "text/plain": [
       "(-0.36316956292299873,\n",
       " 0.018762025269650963,\n",
       " 37.524050539301925,\n",
       " -1.6578812181517075,\n",
       " -41.890476715569704)"
      ]
     },
     "execution_count": 19,
     "metadata": {},
     "output_type": "execute_result"
    }
   ],
   "source": [
    "put_delta, put_gamma, put_vega, put_theta, put_rho"
   ]
  },
  {
   "cell_type": "code",
   "execution_count": 20,
   "id": "2d0fec06",
   "metadata": {},
   "outputs": [],
   "source": [
    "delta = 0.0001"
   ]
  },
  {
   "cell_type": "code",
   "execution_count": 21,
   "id": "43dba554",
   "metadata": {},
   "outputs": [],
   "source": [
    "call_delta_fdm = cppQuantFi.call_delta_fdm(S,K,r,v,T,delta)\n",
    "call_gamma_fdm = cppQuantFi.call_gamma_fdm(S,K,r,v,T,delta)\n",
    "call_vega_fdm = cppQuantFi.call_vega_fdm(S,K,r,v,T,delta)\n",
    "call_theta_fdm = cppQuantFi.call_theta_fdm(S,K,r,v,T,delta)\n",
    "call_rho_fdm = cppQuantFi.call_rho_fdm(S,K,r,v,T,delta)"
   ]
  },
  {
   "cell_type": "code",
   "execution_count": 22,
   "id": "0a84be59",
   "metadata": {},
   "outputs": [
    {
     "data": {
      "text/plain": [
       "(0.6368365789910513,\n",
       " 0.018763302023216966,\n",
       " 37.52438182701212,\n",
       " 6.413933344191491,\n",
       " 53.2397053697764)"
      ]
     },
     "execution_count": 22,
     "metadata": {},
     "output_type": "execute_result"
    }
   ],
   "source": [
    "call_delta_fdm, call_gamma_fdm, call_vega_fdm, call_theta_fdm, call_rho_fdm"
   ]
  },
  {
   "cell_type": "code",
   "execution_count": 23,
   "id": "046664e7",
   "metadata": {},
   "outputs": [],
   "source": [
    "put_delta_fdm = cppQuantFi.put_delta_fdm(S,K,r,v,T,delta)\n",
    "put_gamma_fdm = cppQuantFi.put_gamma_fdm(S,K,r,v,T,delta)\n",
    "put_vega_fdm = cppQuantFi.put_vega_fdm(S,K,r,v,T,delta)\n",
    "put_theta_fdm = cppQuantFi.put_theta_fdm(S,K,r,v,T,delta)\n",
    "put_rho_fdm = cppQuantFi.put_rho_fdm(S,K,r,v,T,delta)"
   ]
  },
  {
   "cell_type": "code",
   "execution_count": 24,
   "id": "731670fb",
   "metadata": {},
   "outputs": [
    {
     "data": {
      "text/plain": [
       "(-0.3631634210421453,\n",
       " 37.52438182701212,\n",
       " 37.52438182701212,\n",
       " 1.6577981119780816,\n",
       " -41.878481091686126)"
      ]
     },
     "execution_count": 24,
     "metadata": {},
     "output_type": "execute_result"
    }
   ],
   "source": [
    "put_delta_fdm, put_gamma_fdm, put_vega_fdm, put_theta_fdm, put_rho_fdm"
   ]
  },
  {
   "cell_type": "code",
   "execution_count": 25,
   "id": "24fa5d53",
   "metadata": {},
   "outputs": [],
   "source": [
    "#call only here\n",
    "Sp = 0.0\n",
    "Sm = 0.0\n",
    "Rp = 0.0\n",
    "Vp = 0.0\n",
    "Tp = 0.0\n",
    "S_ = 0.0\n",
    "delta_MC = gamma_MC = rho_MC = theta_MC = vega_MC = 0.0"
   ]
  },
  {
   "cell_type": "markdown",
   "id": "c3eb6bb2",
   "metadata": {},
   "source": [
    "# It does not work because float, int, bool ... are immutable in python cf. pybind doc. a class need to be created"
   ]
  },
  {
   "cell_type": "markdown",
   "id": "b2501a85",
   "metadata": {},
   "source": [
    "This problem will be solved at the end of the book"
   ]
  },
  {
   "cell_type": "code",
   "execution_count": 26,
   "id": "a3cf5236",
   "metadata": {},
   "outputs": [],
   "source": [
    "cppQuantFi.monte_carlo_call_price(num_sims, S, K, r, v,T, delta, Sp,S_,Sm,Rp,Vp,Tp)"
   ]
  },
  {
   "cell_type": "code",
   "execution_count": 27,
   "id": "cea6eedb",
   "metadata": {},
   "outputs": [],
   "source": [
    "cppQuantFi.monte_carlo_call_greeks(delta,Sp, S_,Sm,Rp,Vp, Tp,delta_MC,gamma_MC, rho_MC, theta_MC, vega_MC)"
   ]
  },
  {
   "cell_type": "code",
   "execution_count": 28,
   "id": "c85c8201",
   "metadata": {},
   "outputs": [
    {
     "data": {
      "text/plain": [
       "(0.0, 0.0, 0.0, 0.0, 0.0)"
      ]
     },
     "execution_count": 28,
     "metadata": {},
     "output_type": "execute_result"
    }
   ],
   "source": [
    "delta_MC,gamma_MC,rho_MC,theta_MC,vega_MC"
   ]
  },
  {
   "cell_type": "markdown",
   "id": "2e64b5b1",
   "metadata": {},
   "source": [
    "# Black Scholes with PDE plotting csv result"
   ]
  },
  {
   "cell_type": "code",
   "execution_count": 32,
   "id": "9382a09e",
   "metadata": {},
   "outputs": [],
   "source": [
    "from mpl_toolkits.mplot3d import Axes3D \n",
    "import matplotlib\n",
    "import numpy as np\n",
    "from matplotlib import cm\n",
    "from matplotlib import pyplot as plt\n",
    "x, y, z = np.loadtxt('fdm.csv', unpack=True)"
   ]
  },
  {
   "cell_type": "code",
   "execution_count": 35,
   "id": "2d917215",
   "metadata": {},
   "outputs": [],
   "source": [
    "X = np.reshape(x, (20,20))\n",
    "Y = np.reshape(y, (20,20))\n",
    "Z = np.reshape(z, (20,20))"
   ]
  },
  {
   "cell_type": "code",
   "execution_count": 37,
   "id": "3f2ff343",
   "metadata": {},
   "outputs": [
    {
     "name": "stdout",
     "output_type": "stream",
     "text": [
      "(20, 20) (20, 20) (20, 20)\n"
     ]
    }
   ],
   "source": [
    "print(X. shape , Y. shape , Z. shape)"
   ]
  },
  {
   "cell_type": "code",
   "execution_count": 44,
   "id": "497e3e20",
   "metadata": {},
   "outputs": [
    {
     "data": {
      "image/png": "[encoded data removed]",
      "text/plain": [
       "<Figure size 432x288 with 1 Axes>"
      ]
     },
     "metadata": {
      "needs_background": "light"
     },
     "output_type": "display_data"
    }
   ],
   "source": [
    "step = 0.04\n",
    "maxval = 1.0\n",
    "fig = plt.figure ()\n",
    "ax = fig.add_subplot(111, projection='3d')\n",
    "\n",
    "ax.plot_surface(X, Y, Z, rstride=1, cstride=1, cmap=cm.YlGnBu_r)\n",
    "ax.set_zlim3d(0, 1.0)\n",
    "ax.set_ylabel(r'$S$')\n",
    "ax.set_xlabel(r'$T−t$')\n",
    "ax.set_zlabel(r'$C(S,t)$')\n",
    "plt.show()"
   ]
  },
  {
   "cell_type": "code",
   "execution_count": null,
   "id": "aa3a594f",
   "metadata": {},
   "outputs": [],
   "source": []
  }
 ],
 "metadata": {
  "kernelspec": {
   "display_name": "Python 3",
   "language": "python",
   "name": "python3"
  },
  "language_info": {
   "codemirror_mode": {
    "name": "ipython",
    "version": 3
   },
   "file_extension": ".py",
   "mimetype": "text/x-python",
   "name": "python",
   "nbconvert_exporter": "python",
   "pygments_lexer": "ipython3",
   "version": "3.8.8"
  }
 },
 "nbformat": 4,
 "nbformat_minor": 5
}
